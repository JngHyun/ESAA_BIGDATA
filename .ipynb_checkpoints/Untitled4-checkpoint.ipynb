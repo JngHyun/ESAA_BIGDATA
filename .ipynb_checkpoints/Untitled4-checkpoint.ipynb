{
 "cells": [
  {
   "cell_type": "code",
   "execution_count": 2,
   "metadata": {},
   "outputs": [],
   "source": [
    "import pandas as pd\n",
    "import numpy as np\n",
    "import seaborn as sns\n",
    "import matplotlib.pyplot as plt\n",
    "import matplotlib as mpl\n",
    "\n",
    "%matplotlib inline\n",
    "sns.set_style(\"whitegrid\")\n",
    "\n",
    "one  = pd.read_csv('C:/Temp/0104.csv', encoding='euc-kr')\n",
    "two  = pd.read_csv('C:/Temp/0508.csv', encoding='euc-kr')\n",
    "three  = pd.read_csv('C:/Temp/0912.csv', encoding='euc-kr')"
   ]
  },
  {
   "cell_type": "code",
   "execution_count": 3,
   "metadata": {},
   "outputs": [],
   "source": [
    "a = pd.concat([one, two, three]) "
   ]
  },
  {
   "cell_type": "code",
   "execution_count": 4,
   "metadata": {},
   "outputs": [
    {
     "name": "stdout",
     "output_type": "stream",
     "text": [
      "Package                            Version   Location                                                           \n",
      "---------------------------------- --------- -------------------------------------------------------------------\n",
      "absl-py                            0.7.1     \n",
      "alabaster                          0.7.12    \n",
      "anaconda-client                    1.7.2     \n",
      "anaconda-navigator                 1.7.0     \n",
      "anaconda-project                   0.8.3     \n",
      "asn1crypto                         0.24.0    \n",
      "astor                              0.7.1     \n",
      "astroid                            2.2.5     \n",
      "astropy                            3.2.1     \n",
      "atomicwrites                       1.3.0     \n",
      "attrs                              19.1.0    \n",
      "Babel                              2.7.0     \n",
      "backcall                           0.1.0     \n",
      "backports.os                       0.1.1     \n",
      "backports.shutil-get-terminal-size 1.0.0     \n",
      "beautifulsoup4                     4.7.1     \n",
      "bitarray                           0.9.3     \n",
      "bkcharts                           0.2       \n",
      "blaze                              0.11.3    \n",
      "bleach                             3.1.0     \n",
      "bokeh                              1.3.0     \n",
      "boto                               2.49.0    \n",
      "Bottleneck                         1.2.1     \n",
      "cachetools                         3.1.1     \n",
      "certifi                            2019.6.16 \n",
      "cffi                               1.12.3    \n",
      "chardet                            3.0.4     \n",
      "Click                              7.0       \n",
      "cloudpickle                        1.2.1     \n",
      "clyent                             1.2.2     \n",
      "colorama                           0.4.1     \n",
      "comtypes                           1.1.7     \n",
      "conda                              4.7.12    \n",
      "conda-build                        3.4.1     \n",
      "conda-package-handling             1.3.11    \n",
      "conda-verify                       2.0.0     \n",
      "contextlib2                        0.5.5     \n",
      "cryptography                       2.7       \n",
      "cycler                             0.10.0    \n",
      "Cython                             0.29.12   \n",
      "cytoolz                            0.10.0    \n",
      "dask                               2.1.0     \n",
      "datashape                          0.5.4     \n",
      "decorator                          4.4.0     \n",
      "defusedxml                         0.6.0     \n",
      "distributed                        2.1.0     \n",
      "docutils                           0.14      \n",
      "entrypoints                        0.3       \n",
      "et-xmlfile                         1.0.1     \n",
      "fastcache                          1.1.0     \n",
      "filelock                           3.0.12    \n",
      "Flask                              1.1.1     \n",
      "Flask-Cors                         3.0.3     \n",
      "gast                               0.2.2     \n",
      "gevent                             1.4.0     \n",
      "glob2                              0.7       \n",
      "google-auth                        1.7.0     \n",
      "google-auth-oauthlib               0.4.1     \n",
      "google-images-download             2.5.0     \n",
      "google-pasta                       0.1.8     \n",
      "greenlet                           0.4.15    \n",
      "grpcio                             1.16.1    \n",
      "h5py                               2.9.0     \n",
      "heapdict                           1.0.0     \n",
      "html5lib                           1.0.1     \n",
      "idna                               2.8       \n",
      "imageio                            2.5.0     \n",
      "imagesize                          1.1.0     \n",
      "importlib-metadata                 0.17      \n",
      "ipykernel                          5.1.1     \n",
      "ipython                            7.6.1     \n",
      "ipython-genutils                   0.2.0     \n",
      "ipywidgets                         7.5.0     \n",
      "isort                              4.3.21    \n",
      "itsdangerous                       1.1.0     \n",
      "jdcal                              1.4.1     \n",
      "jedi                               0.13.3    \n",
      "Jinja2                             2.10.1    \n",
      "joblib                             0.13.2    \n",
      "json5                              0.8.4     \n",
      "jsonschema                         3.0.1     \n",
      "jupyter                            1.0.0     \n",
      "jupyter-client                     5.3.1     \n",
      "jupyter-console                    6.0.0     \n",
      "jupyter-core                       4.5.0     \n",
      "jupyterlab                         1.0.2     \n",
      "jupyterlab-launcher                0.10.2    \n",
      "jupyterlab-server                  1.0.0     \n",
      "Keras                              2.2.4     \n",
      "Keras-Applications                 1.0.8     \n",
      "Keras-Preprocessing                1.1.0     \n",
      "keyring                            18.0.0    \n",
      "kiwisolver                         1.1.0     \n",
      "lazy-object-proxy                  1.4.1     \n",
      "libarchive-c                       2.8       \n",
      "llvmlite                           0.29.0    \n",
      "locket                             0.2.0     \n",
      "lxml                               4.3.4     \n",
      "Markdown                           3.1.1     \n",
      "MarkupSafe                         1.1.1     \n",
      "matplotlib                         3.1.0     \n",
      "mccabe                             0.6.1     \n",
      "menuinst                           1.4.16    \n",
      "mistune                            0.8.4     \n",
      "mkl-fft                            1.0.12    \n",
      "mkl-random                         1.0.2     \n",
      "mkl-service                        2.0.2     \n",
      "mock                               3.0.5     \n",
      "more-itertools                     7.0.0     \n",
      "mpmath                             1.1.0     \n",
      "msgpack                            0.6.1     \n",
      "multipledispatch                   0.6.0     \n",
      "navigator-updater                  0.1.0     \n",
      "nbconvert                          5.5.0     \n",
      "nbformat                           4.4.0     \n",
      "networkx                           2.3       \n",
      "nltk                               3.4.4     \n",
      "nose                               1.3.7     \n",
      "notebook                           6.0.0     \n",
      "nsml                               0.0       \n",
      "numba                              0.45.0    \n",
      "numexpr                            2.6.9     \n",
      "numpy                              1.16.4    \n",
      "numpydoc                           0.9.1     \n",
      "oauthlib                           3.1.0     \n",
      "odo                                0.5.1     \n",
      "olefile                            0.46      \n",
      "openpyxl                           2.6.2     \n",
      "opt-einsum                         3.1.0     \n",
      "packaging                          19.0      \n",
      "pandas                             0.24.2    \n",
      "pandocfilters                      1.4.2     \n",
      "parso                              0.5.0     \n",
      "partd                              1.0.0     \n",
      "path.py                            12.0.1    \n",
      "pathlib2                           2.3.4     \n",
      "patsy                              0.5.1     \n",
      "pep8                               1.7.1     \n",
      "pickleshare                        0.7.5     \n",
      "Pillow                             6.1.0     \n",
      "pip                                19.3.1    \n",
      "pkginfo                            1.5.0.1   \n",
      "pluggy                             0.12.0    \n",
      "ply                                3.11      \n",
      "prometheus-client                  0.7.1     \n",
      "prompt-toolkit                     2.0.9     \n",
      "protobuf                           3.8.0     \n",
      "psutil                             5.6.3     \n",
      "py                                 1.8.0     \n",
      "pyasn1                             0.4.7     \n",
      "pyasn1-modules                     0.2.7     \n",
      "pycodestyle                        2.5.0     \n",
      "pycosat                            0.6.3     \n",
      "pycparser                          2.19      \n",
      "pycrypto                           2.6.1     \n",
      "pycurl                             7.43.0.3  \n",
      "pyflakes                           2.1.1     \n",
      "Pygments                           2.4.2     \n",
      "pylint                             2.3.1     \n",
      "pyodbc                             4.0.26    \n",
      "pyOpenSSL                          19.0.0    \n",
      "pyparsing                          2.4.0     \n",
      "pyreadline                         2.1       \n",
      "pyrsistent                         0.14.11   \n",
      "PySocks                            1.7.0     \n",
      "pytest                             5.0.1     \n",
      "pytest-arraydiff                   0.3       \n",
      "pytest-astropy                     0.5.0     \n",
      "pytest-doctestplus                 0.3.0     \n",
      "pytest-openfiles                   0.3.2     \n",
      "pytest-remotedata                  0.3.1     \n",
      "python-dateutil                    2.8.0     \n",
      "python-speech-features             0.6       c:\\users\\user\\nsml_client.windows.amd64.hack\\python_speech_features\n",
      "pytz                               2019.1    \n",
      "PyWavelets                         1.0.3     \n",
      "pywin32                            223       \n",
      "pywinpty                           0.5.5     \n",
      "PyYAML                             5.1.1     \n",
      "pyzmq                              18.0.0    \n",
      "QtAwesome                          0.5.7     \n",
      "qtconsole                          4.5.2     \n",
      "QtPy                               1.8.0     \n",
      "requests                           2.22.0    \n",
      "requests-oauthlib                  1.3.0     \n",
      "rope                               0.14.0    \n",
      "rsa                                4.0       \n",
      "ruamel-yaml                        0.15.46   \n",
      "scikit-image                       0.15.0    \n",
      "scikit-learn                       0.21.2    \n",
      "scipy                              1.2.1     \n",
      "seaborn                            0.9.0     \n",
      "selenium                           3.12.0    \n",
      "Send2Trash                         1.5.0     \n",
      "setuptools                         41.0.1    \n",
      "simplegeneric                      0.8.1     \n",
      "singledispatch                     3.4.0.3   \n",
      "six                                1.12.0    \n",
      "sklearn                            0.0       \n",
      "snowballstemmer                    1.9.0     \n",
      "sortedcollections                  1.1.2     \n",
      "sortedcontainers                   2.1.0     \n",
      "soupsieve                          1.8       \n",
      "Sphinx                             2.1.2     \n",
      "sphinxcontrib-applehelp            1.0.1     \n",
      "sphinxcontrib-devhelp              1.0.1     \n",
      "sphinxcontrib-htmlhelp             1.0.2     \n",
      "sphinxcontrib-jsmath               1.0.1     \n",
      "sphinxcontrib-qthelp               1.0.2     \n",
      "sphinxcontrib-serializinghtml      1.1.3     \n",
      "sphinxcontrib-websupport           1.1.2     \n",
      "spyder                             3.3.6     \n",
      "spyder-kernels                     0.5.1     \n",
      "SQLAlchemy                         1.3.5     \n",
      "statsmodels                        0.10.0    \n",
      "sympy                              1.4       \n",
      "tables                             3.5.2     \n",
      "tblib                              1.4.0     \n",
      "tensorboard                        2.0.1     \n",
      "tensorflow                         2.0.0     \n",
      "tensorflow-estimator               2.0.1     \n",
      "termcolor                          1.1.0     \n",
      "terminado                          0.8.2     \n",
      "testpath                           0.4.2     \n",
      "toolz                              0.10.0    \n",
      "tornado                            6.0.3     \n",
      "tqdm                               4.32.1    \n",
      "traitlets                          4.3.2     \n",
      "typed-ast                          1.3.4     \n",
      "typing                             3.6.2     \n",
      "unicodecsv                         0.14.1    \n",
      "urllib3                            1.24.2    \n",
      "wcwidth                            0.1.7     \n",
      "webencodings                       0.5.1     \n",
      "Werkzeug                           0.15.4    \n",
      "wheel                              0.33.4    \n",
      "widgetsnbextension                 3.5.0     \n",
      "win-inet-pton                      1.1.0     \n",
      "win-unicode-console                0.5       \n",
      "wincertstore                       0.2       \n",
      "wrapt                              1.11.2    \n",
      "xlrd                               1.2.0     \n",
      "XlsxWriter                         1.1.8     \n",
      "xlwings                            0.15.8    \n",
      "xlwt                               1.3.0     \n",
      "zict                               1.0.0     \n",
      "zipp                               0.5.1     \n"
     ]
    }
   ],
   "source": [
    "!pip list"
   ]
  },
  {
   "cell_type": "code",
   "execution_count": 5,
   "metadata": {},
   "outputs": [
    {
     "name": "stdout",
     "output_type": "stream",
     "text": [
      "Collecting folium\n",
      "  Downloading https://files.pythonhosted.org/packages/72/ff/004bfe344150a064e558cb2aedeaa02ecbf75e60e148a55a9198f0c41765/folium-0.10.0-py2.py3-none-any.whl (91kB)\n",
      "Requirement already satisfied: requests in c:\\users\\user\\anaconda3\\lib\\site-packages (from folium) (2.22.0)\n",
      "Requirement already satisfied: numpy in c:\\users\\user\\anaconda3\\lib\\site-packages (from folium) (1.16.4)\n",
      "Collecting branca>=0.3.0\n",
      "  Downloading https://files.pythonhosted.org/packages/63/36/1c93318e9653f4e414a2e0c3b98fc898b4970e939afeedeee6075dd3b703/branca-0.3.1-py3-none-any.whl\n",
      "Requirement already satisfied: jinja2>=2.9 in c:\\users\\user\\anaconda3\\lib\\site-packages (from folium) (2.10.1)\n",
      "Requirement already satisfied: chardet<3.1.0,>=3.0.2 in c:\\users\\user\\anaconda3\\lib\\site-packages (from requests->folium) (3.0.4)\n",
      "Requirement already satisfied: urllib3!=1.25.0,!=1.25.1,<1.26,>=1.21.1 in c:\\users\\user\\anaconda3\\lib\\site-packages (from requests->folium) (1.24.2)\n",
      "Requirement already satisfied: certifi>=2017.4.17 in c:\\users\\user\\anaconda3\\lib\\site-packages (from requests->folium) (2019.6.16)\n",
      "Requirement already satisfied: idna<2.9,>=2.5 in c:\\users\\user\\anaconda3\\lib\\site-packages (from requests->folium) (2.8)\n",
      "Requirement already satisfied: six in c:\\users\\user\\anaconda3\\lib\\site-packages (from branca>=0.3.0->folium) (1.12.0)\n",
      "Requirement already satisfied: MarkupSafe>=0.23 in c:\\users\\user\\anaconda3\\lib\\site-packages (from jinja2>=2.9->folium) (1.1.1)\n",
      "Installing collected packages: branca, folium\n",
      "Successfully installed branca-0.3.1 folium-0.10.0\n"
     ]
    }
   ],
   "source": [
    "!pip install folium"
   ]
  },
  {
   "cell_type": "code",
   "execution_count": 8,
   "metadata": {},
   "outputs": [],
   "source": [
    "import json\n",
    "import folium\n",
    "import warnings\n",
    "warnings.simplefilter(action = \"ignore\", category = FutureWarning)"
   ]
  },
  {
   "cell_type": "code",
   "execution_count": 9,
   "metadata": {},
   "outputs": [],
   "source": [
    "geo_json = 'https://raw.githubusercontent.com/southkorea/southkorea-maps/master/kostat/2013/json/skorea_municipalities_geo_simple.json'"
   ]
  },
  {
   "cell_type": "code",
   "execution_count": 10,
   "metadata": {
    "scrolled": false
   },
   "outputs": [
    {
     "data": {
      "text/html": [
       "<div style=\"width:100%;\"><div style=\"position:relative;width:100%;height:0;padding-bottom:60%;\"><iframe src=\"data:text/html;charset=utf-8;base64,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\" style=\"position:absolute;width:100%;height:100%;left:0;top:0;border:none !important;\" allowfullscreen webkitallowfullscreen mozallowfullscreen></iframe></div></div>"
      ],
      "text/plain": [
       "<folium.folium.Map at 0x200cde5eb00>"
      ]
     },
     "execution_count": 10,
     "metadata": {},
     "output_type": "execute_result"
    }
   ],
   "source": [
    "map = folium.Map(location=[37.5502, 126.982], zoom_start=13)\n",
    "map"
   ]
  },
  {
   "cell_type": "code",
   "execution_count": 11,
   "metadata": {},
   "outputs": [
    {
     "data": {
      "text/html": [
       "<div style=\"width:100%;\"><div style=\"position:relative;width:100%;height:0;padding-bottom:60%;\"><iframe src=\"data:text/html;charset=utf-8;base64,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\" style=\"position:absolute;width:100%;height:100%;left:0;top:0;border:none !important;\" allowfullscreen webkitallowfullscreen mozallowfullscreen></iframe></div></div>"
      ],
      "text/plain": [
       "<folium.folium.Map at 0x200d7a3d588>"
      ]
     },
     "execution_count": 11,
     "metadata": {},
     "output_type": "execute_result"
    }
   ],
   "source": [
    "map = folium.Map(location=[37.5502, 126.982], tiles='Stamen Terrain')\n",
    "map"
   ]
  },
  {
   "cell_type": "code",
   "execution_count": 12,
   "metadata": {},
   "outputs": [
    {
     "ename": "FileNotFoundError",
     "evalue": "[Errno 2] No such file or directory: '../data/skorea_municipalities_geo_simple.json'",
     "output_type": "error",
     "traceback": [
      "\u001b[1;31m---------------------------------------------------------------------------\u001b[0m",
      "\u001b[1;31mFileNotFoundError\u001b[0m                         Traceback (most recent call last)",
      "\u001b[1;32m<ipython-input-12-5b2d6dc6b59f>\u001b[0m in \u001b[0;36m<module>\u001b[1;34m\u001b[0m\n\u001b[0;32m      1\u001b[0m \u001b[0mgeo_path\u001b[0m \u001b[1;33m=\u001b[0m \u001b[1;34m'../data/skorea_municipalities_geo_simple.json'\u001b[0m\u001b[1;33m\u001b[0m\u001b[1;33m\u001b[0m\u001b[0m\n\u001b[1;32m----> 2\u001b[1;33m \u001b[0mgeo_data\u001b[0m \u001b[1;33m=\u001b[0m \u001b[0mjson\u001b[0m\u001b[1;33m.\u001b[0m\u001b[0mload\u001b[0m\u001b[1;33m(\u001b[0m\u001b[0mopen\u001b[0m\u001b[1;33m(\u001b[0m\u001b[0mgeo_path\u001b[0m\u001b[1;33m,\u001b[0m \u001b[0mencoding\u001b[0m\u001b[1;33m=\u001b[0m\u001b[1;34m'utf-8'\u001b[0m\u001b[1;33m)\u001b[0m\u001b[1;33m)\u001b[0m\u001b[1;33m\u001b[0m\u001b[1;33m\u001b[0m\u001b[0m\n\u001b[0m",
      "\u001b[1;31mFileNotFoundError\u001b[0m: [Errno 2] No such file or directory: '../data/skorea_municipalities_geo_simple.json'"
     ]
    }
   ],
   "source": [
    "geo_path = '../data/skorea_municipalities_geo_simple.json'\n",
    "geo_data = json.load(open(geo_path, encoding='utf-8'))"
   ]
  },
  {
   "cell_type": "code",
   "execution_count": 10,
   "metadata": {},
   "outputs": [],
   "source": [
    "data=a.groupby([\"발신지_구\"]).mean().drop(['Unnamed: 0','일자'], axis='columns')"
   ]
  },
  {
   "cell_type": "code",
   "execution_count": 11,
   "metadata": {},
   "outputs": [
    {
     "data": {
      "text/html": [
       "<div>\n",
       "<style scoped>\n",
       "    .dataframe tbody tr th:only-of-type {\n",
       "        vertical-align: middle;\n",
       "    }\n",
       "\n",
       "    .dataframe tbody tr th {\n",
       "        vertical-align: top;\n",
       "    }\n",
       "\n",
       "    .dataframe thead th {\n",
       "        text-align: right;\n",
       "    }\n",
       "</style>\n",
       "<table border=\"1\" class=\"dataframe\">\n",
       "  <thead>\n",
       "    <tr style=\"text-align: right;\">\n",
       "      <th></th>\n",
       "      <th>통화건수</th>\n",
       "    </tr>\n",
       "    <tr>\n",
       "      <th>발신지_구</th>\n",
       "      <th></th>\n",
       "    </tr>\n",
       "  </thead>\n",
       "  <tbody>\n",
       "    <tr>\n",
       "      <th>강남구</th>\n",
       "      <td>54.151319</td>\n",
       "    </tr>\n",
       "    <tr>\n",
       "      <th>강동구</th>\n",
       "      <td>30.934534</td>\n",
       "    </tr>\n",
       "    <tr>\n",
       "      <th>강북구</th>\n",
       "      <td>58.204298</td>\n",
       "    </tr>\n",
       "    <tr>\n",
       "      <th>강서구</th>\n",
       "      <td>43.149303</td>\n",
       "    </tr>\n",
       "    <tr>\n",
       "      <th>관악구</th>\n",
       "      <td>70.976972</td>\n",
       "    </tr>\n",
       "  </tbody>\n",
       "</table>\n",
       "</div>"
      ],
      "text/plain": [
       "            통화건수\n",
       "발신지_구           \n",
       "강남구    54.151319\n",
       "강동구    30.934534\n",
       "강북구    58.204298\n",
       "강서구    43.149303\n",
       "관악구    70.976972"
      ]
     },
     "execution_count": 11,
     "metadata": {},
     "output_type": "execute_result"
    }
   ],
   "source": [
    "data.head()"
   ]
  },
  {
   "cell_type": "code",
   "execution_count": 13,
   "metadata": {},
   "outputs": [
    {
     "ename": "NameError",
     "evalue": "name 'geo_data' is not defined",
     "output_type": "error",
     "traceback": [
      "\u001b[1;31m---------------------------------------------------------------------------\u001b[0m",
      "\u001b[1;31mNameError\u001b[0m                                 Traceback (most recent call last)",
      "\u001b[1;32m<ipython-input-13-f8e4b495622e>\u001b[0m in \u001b[0;36m<module>\u001b[1;34m\u001b[0m\n\u001b[1;32m----> 1\u001b[1;33m map.choropleth(geo_data= geo_data,\n\u001b[0m\u001b[0;32m      2\u001b[0m                \u001b[0mdata\u001b[0m \u001b[1;33m=\u001b[0m \u001b[0mdata\u001b[0m\u001b[1;33m[\u001b[0m\u001b[1;34m'통화건수'\u001b[0m\u001b[1;33m]\u001b[0m\u001b[1;33m,\u001b[0m\u001b[1;33m\u001b[0m\u001b[1;33m\u001b[0m\u001b[0m\n\u001b[0;32m      3\u001b[0m                \u001b[0mcolumns\u001b[0m \u001b[1;33m=\u001b[0m \u001b[1;33m[\u001b[0m\u001b[0mdata\u001b[0m\u001b[1;33m.\u001b[0m\u001b[0mindex\u001b[0m\u001b[1;33m,\u001b[0m \u001b[0mdata\u001b[0m\u001b[1;33m[\u001b[0m\u001b[1;34m'통화건수'\u001b[0m\u001b[1;33m]\u001b[0m\u001b[1;33m]\u001b[0m\u001b[1;33m,\u001b[0m\u001b[1;33m\u001b[0m\u001b[1;33m\u001b[0m\u001b[0m\n\u001b[0;32m      4\u001b[0m                \u001b[0mfill_color\u001b[0m \u001b[1;33m=\u001b[0m \u001b[1;34m'PuRd'\u001b[0m\u001b[1;33m,\u001b[0m\u001b[1;33m\u001b[0m\u001b[1;33m\u001b[0m\u001b[0m\n\u001b[0;32m      5\u001b[0m                key_on = 'feature.id')\n",
      "\u001b[1;31mNameError\u001b[0m: name 'geo_data' is not defined"
     ]
    }
   ],
   "source": [
    "map.choropleth(geo_data= geo_data,\n",
    "               data = data['통화건수'],\n",
    "               columns = [data.index, data['통화건수']],\n",
    "               fill_color = 'PuRd',\n",
    "               key_on = 'feature.id')\n",
    "map"
   ]
  },
  {
   "cell_type": "code",
   "execution_count": null,
   "metadata": {},
   "outputs": [],
   "source": []
  },
  {
   "cell_type": "code",
   "execution_count": null,
   "metadata": {},
   "outputs": [],
   "source": []
  },
  {
   "cell_type": "code",
   "execution_count": null,
   "metadata": {},
   "outputs": [],
   "source": []
  }
 ],
 "metadata": {
  "kernelspec": {
   "display_name": "Python 3",
   "language": "python",
   "name": "python3"
  }
 },
 "nbformat": 4,
 "nbformat_minor": 2
}
