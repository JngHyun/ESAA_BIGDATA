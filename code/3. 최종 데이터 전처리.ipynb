{
 "cells": [
  {
   "cell_type": "code",
   "execution_count": 1,
   "metadata": {},
   "outputs": [],
   "source": [
    "import pandas as pd\n",
    "import numpy as np"
   ]
  },
  {
   "cell_type": "code",
   "execution_count": 41,
   "metadata": {},
   "outputs": [],
   "source": [
    "data = pd.read_csv('C:/Temp/data_all.csv', encoding='euc-kr', parse_dates=['일시'])"
   ]
  },
  {
   "cell_type": "code",
   "execution_count": 42,
   "metadata": {},
   "outputs": [
    {
     "name": "stdout",
     "output_type": "stream",
     "text": [
      "<class 'pandas.core.frame.DataFrame'>\n",
      "RangeIndex: 640647 entries, 0 to 640646\n",
      "Data columns (total 20 columns):\n",
      "지점               640647 non-null object\n",
      "발신지_시도           640647 non-null object\n",
      "발신지_읍면동          640647 non-null object\n",
      "성별               640647 non-null object\n",
      "연령               640647 non-null object\n",
      "요일               640647 non-null object\n",
      "일시               640647 non-null datetime64[ns]\n",
      "통화건수             640647 non-null int64\n",
      "평균기온(°C)         636478 non-null float64\n",
      "최저기온(°C)         636917 non-null float64\n",
      "최고기온(°C)         636917 non-null float64\n",
      "일강수량(mm)         640346 non-null float64\n",
      "최대 순간 풍속(m/s)    609859 non-null float64\n",
      "평균 풍속(m/s)       635429 non-null float64\n",
      "이산화질소농도(ppm)     533113 non-null float64\n",
      "오존농도(ppm)        533088 non-null float64\n",
      "이산화탄소농도(ppm)     533255 non-null float64\n",
      "아황산가스(ppm)       532297 non-null float64\n",
      "미세먼지(㎍/㎥)        533373 non-null float64\n",
      "초미세먼지(㎍/㎥)       533375 non-null float64\n",
      "dtypes: datetime64[ns](1), float64(12), int64(1), object(6)\n",
      "memory usage: 97.8+ MB\n"
     ]
    }
   ],
   "source": [
    "data.info()"
   ]
  },
  {
   "cell_type": "code",
   "execution_count": 43,
   "metadata": {},
   "outputs": [],
   "source": [
    "data = data.groupby([data['일시'],data['요일'], data['지점'],data[\"성별\"],data[\"연령\"]]).mean()\n",
    "data.reset_index(inplace=True)"
   ]
  },
  {
   "cell_type": "code",
   "execution_count": 44,
   "metadata": {
    "scrolled": true
   },
   "outputs": [
    {
     "data": {
      "text/plain": [
       "일시                   0\n",
       "요일                   0\n",
       "지점                   0\n",
       "성별                   0\n",
       "연령                   0\n",
       "통화건수                 0\n",
       "평균기온(°C)           685\n",
       "최저기온(°C)           569\n",
       "최고기온(°C)           569\n",
       "일강수량(mm)            43\n",
       "최대 순간 풍속(m/s)     4806\n",
       "평균 풍속(m/s)         616\n",
       "이산화질소농도(ppm)     18012\n",
       "오존농도(ppm)        17953\n",
       "이산화탄소농도(ppm)     17922\n",
       "아황산가스(ppm)       18134\n",
       "미세먼지(㎍/㎥)        17847\n",
       "초미세먼지(㎍/㎥)       17839\n",
       "dtype: int64"
      ]
     },
     "execution_count": 44,
     "metadata": {},
     "output_type": "execute_result"
    }
   ],
   "source": [
    "np.sum(pd.isnull(data))"
   ]
  },
  {
   "cell_type": "code",
   "execution_count": 45,
   "metadata": {},
   "outputs": [],
   "source": [
    "data.drop(['최대 순간 풍속(m/s)','이산화질소농도(ppm)','오존농도(ppm)','이산화탄소농도(ppm)','아황산가스(ppm)','초미세먼지(㎍/㎥)'], axis='columns', inplace=True)"
   ]
  },
  {
   "cell_type": "code",
   "execution_count": 46,
   "metadata": {},
   "outputs": [],
   "source": [
    "data = data.interpolate() "
   ]
  },
  {
   "cell_type": "code",
   "execution_count": 47,
   "metadata": {},
   "outputs": [
    {
     "data": {
      "text/plain": [
       "일시            0\n",
       "요일            0\n",
       "지점            0\n",
       "성별            0\n",
       "연령            0\n",
       "통화건수          0\n",
       "평균기온(°C)      0\n",
       "최저기온(°C)      0\n",
       "최고기온(°C)      0\n",
       "일강수량(mm)      0\n",
       "평균 풍속(m/s)    0\n",
       "미세먼지(㎍/㎥)     0\n",
       "dtype: int64"
      ]
     },
     "execution_count": 47,
     "metadata": {},
     "output_type": "execute_result"
    }
   ],
   "source": [
    "np.sum(pd.isnull(data))"
   ]
  },
  {
   "cell_type": "code",
   "execution_count": 48,
   "metadata": {},
   "outputs": [],
   "source": [
    "data[\"일교차\"] = data[\"최고기온(°C)\"] -data[\"최저기온(°C)\"] "
   ]
  },
  {
   "cell_type": "code",
   "execution_count": 49,
   "metadata": {},
   "outputs": [],
   "source": [
    "data.rename(columns={'지점': \"GU\", '일시':\"Date\",'요일':\"Week\",'통화건수':\"call\",'평균기온(°C)':\"temp\",'최저기온(°C)':\"temp_L\",'최고기온(°C)':\"temp_H\",'일강수량(mm)':\"rain\",'평균 풍속(m/s)':\"wind\",'일교차(°C)':\"temp_dif\",'미세먼지(㎍/㎥)':\"dust\",'일교차':\"temp_dif\",'성별':\"gender\",'연령':\"age\"}, inplace=True)"
   ]
  },
  {
   "cell_type": "code",
   "execution_count": 50,
   "metadata": {},
   "outputs": [
    {
     "name": "stdout",
     "output_type": "stream",
     "text": [
      "<class 'pandas.core.frame.DataFrame'>\n",
      "RangeIndex: 107215 entries, 0 to 107214\n",
      "Data columns (total 13 columns):\n",
      "Date        107215 non-null datetime64[ns]\n",
      "Week        107215 non-null object\n",
      "GU          107215 non-null object\n",
      "gender      107215 non-null object\n",
      "age         107215 non-null object\n",
      "call        107215 non-null float64\n",
      "temp        107215 non-null float64\n",
      "temp_L      107215 non-null float64\n",
      "temp_H      107215 non-null float64\n",
      "rain        107215 non-null float64\n",
      "wind        107215 non-null float64\n",
      "dust        107215 non-null float64\n",
      "temp_dif    107215 non-null float64\n",
      "dtypes: datetime64[ns](1), float64(8), object(4)\n",
      "memory usage: 10.6+ MB\n"
     ]
    }
   ],
   "source": [
    "data.info()"
   ]
  },
  {
   "cell_type": "code",
   "execution_count": 51,
   "metadata": {},
   "outputs": [
    {
     "data": {
      "text/html": [
       "<div>\n",
       "<style scoped>\n",
       "    .dataframe tbody tr th:only-of-type {\n",
       "        vertical-align: middle;\n",
       "    }\n",
       "\n",
       "    .dataframe tbody tr th {\n",
       "        vertical-align: top;\n",
       "    }\n",
       "\n",
       "    .dataframe thead th {\n",
       "        text-align: right;\n",
       "    }\n",
       "</style>\n",
       "<table border=\"1\" class=\"dataframe\">\n",
       "  <thead>\n",
       "    <tr style=\"text-align: right;\">\n",
       "      <th></th>\n",
       "      <th>Date</th>\n",
       "      <th>Week</th>\n",
       "      <th>GU</th>\n",
       "      <th>gender</th>\n",
       "      <th>age</th>\n",
       "      <th>call</th>\n",
       "      <th>temp</th>\n",
       "      <th>temp_L</th>\n",
       "      <th>temp_H</th>\n",
       "      <th>rain</th>\n",
       "      <th>wind</th>\n",
       "      <th>dust</th>\n",
       "      <th>temp_dif</th>\n",
       "    </tr>\n",
       "  </thead>\n",
       "  <tbody>\n",
       "    <tr>\n",
       "      <th>0</th>\n",
       "      <td>2017-12-01</td>\n",
       "      <td>금</td>\n",
       "      <td>강남구</td>\n",
       "      <td>남</td>\n",
       "      <td>10대</td>\n",
       "      <td>8.142857</td>\n",
       "      <td>-1.1</td>\n",
       "      <td>-5.0</td>\n",
       "      <td>3.1</td>\n",
       "      <td>0.0</td>\n",
       "      <td>1.5</td>\n",
       "      <td>20.0</td>\n",
       "      <td>8.1</td>\n",
       "    </tr>\n",
       "    <tr>\n",
       "      <th>1</th>\n",
       "      <td>2017-12-01</td>\n",
       "      <td>금</td>\n",
       "      <td>강남구</td>\n",
       "      <td>남</td>\n",
       "      <td>20대</td>\n",
       "      <td>39.100000</td>\n",
       "      <td>-1.1</td>\n",
       "      <td>-5.0</td>\n",
       "      <td>3.1</td>\n",
       "      <td>0.0</td>\n",
       "      <td>1.5</td>\n",
       "      <td>20.0</td>\n",
       "      <td>8.1</td>\n",
       "    </tr>\n",
       "    <tr>\n",
       "      <th>2</th>\n",
       "      <td>2017-12-01</td>\n",
       "      <td>금</td>\n",
       "      <td>강남구</td>\n",
       "      <td>남</td>\n",
       "      <td>30대</td>\n",
       "      <td>67.100000</td>\n",
       "      <td>-1.1</td>\n",
       "      <td>-5.0</td>\n",
       "      <td>3.1</td>\n",
       "      <td>0.0</td>\n",
       "      <td>1.5</td>\n",
       "      <td>20.0</td>\n",
       "      <td>8.1</td>\n",
       "    </tr>\n",
       "    <tr>\n",
       "      <th>3</th>\n",
       "      <td>2017-12-01</td>\n",
       "      <td>금</td>\n",
       "      <td>강남구</td>\n",
       "      <td>남</td>\n",
       "      <td>40대</td>\n",
       "      <td>62.300000</td>\n",
       "      <td>-1.1</td>\n",
       "      <td>-5.0</td>\n",
       "      <td>3.1</td>\n",
       "      <td>0.0</td>\n",
       "      <td>1.5</td>\n",
       "      <td>20.0</td>\n",
       "      <td>8.1</td>\n",
       "    </tr>\n",
       "    <tr>\n",
       "      <th>4</th>\n",
       "      <td>2017-12-01</td>\n",
       "      <td>금</td>\n",
       "      <td>강남구</td>\n",
       "      <td>남</td>\n",
       "      <td>50대</td>\n",
       "      <td>43.818182</td>\n",
       "      <td>-1.1</td>\n",
       "      <td>-5.0</td>\n",
       "      <td>3.1</td>\n",
       "      <td>0.0</td>\n",
       "      <td>1.5</td>\n",
       "      <td>20.0</td>\n",
       "      <td>8.1</td>\n",
       "    </tr>\n",
       "  </tbody>\n",
       "</table>\n",
       "</div>"
      ],
      "text/plain": [
       "        Date Week   GU gender  age       call  temp  temp_L  temp_H  rain  \\\n",
       "0 2017-12-01    금  강남구      남  10대   8.142857  -1.1    -5.0     3.1   0.0   \n",
       "1 2017-12-01    금  강남구      남  20대  39.100000  -1.1    -5.0     3.1   0.0   \n",
       "2 2017-12-01    금  강남구      남  30대  67.100000  -1.1    -5.0     3.1   0.0   \n",
       "3 2017-12-01    금  강남구      남  40대  62.300000  -1.1    -5.0     3.1   0.0   \n",
       "4 2017-12-01    금  강남구      남  50대  43.818182  -1.1    -5.0     3.1   0.0   \n",
       "\n",
       "   wind  dust  temp_dif  \n",
       "0   1.5  20.0       8.1  \n",
       "1   1.5  20.0       8.1  \n",
       "2   1.5  20.0       8.1  \n",
       "3   1.5  20.0       8.1  \n",
       "4   1.5  20.0       8.1  "
      ]
     },
     "execution_count": 51,
     "metadata": {},
     "output_type": "execute_result"
    }
   ],
   "source": [
    "data.head()"
   ]
  },
  {
   "cell_type": "code",
   "execution_count": 52,
   "metadata": {},
   "outputs": [],
   "source": [
    "data[\"mean\"] = data.groupby([\"GU\"])[\"call\"].transform('mean')\n",
    "data[\"call_num\"] = np.where(data[\"call\"]>data[\"mean\"],1,0)"
   ]
  },
  {
   "cell_type": "code",
   "execution_count": 53,
   "metadata": {},
   "outputs": [
    {
     "data": {
      "text/html": [
       "<div>\n",
       "<style scoped>\n",
       "    .dataframe tbody tr th:only-of-type {\n",
       "        vertical-align: middle;\n",
       "    }\n",
       "\n",
       "    .dataframe tbody tr th {\n",
       "        vertical-align: top;\n",
       "    }\n",
       "\n",
       "    .dataframe thead th {\n",
       "        text-align: right;\n",
       "    }\n",
       "</style>\n",
       "<table border=\"1\" class=\"dataframe\">\n",
       "  <thead>\n",
       "    <tr style=\"text-align: right;\">\n",
       "      <th></th>\n",
       "      <th>Date</th>\n",
       "      <th>Week</th>\n",
       "      <th>GU</th>\n",
       "      <th>gender</th>\n",
       "      <th>age</th>\n",
       "      <th>call</th>\n",
       "      <th>temp</th>\n",
       "      <th>temp_L</th>\n",
       "      <th>temp_H</th>\n",
       "      <th>rain</th>\n",
       "      <th>wind</th>\n",
       "      <th>dust</th>\n",
       "      <th>temp_dif</th>\n",
       "      <th>mean</th>\n",
       "      <th>call_num</th>\n",
       "    </tr>\n",
       "  </thead>\n",
       "  <tbody>\n",
       "    <tr>\n",
       "      <th>0</th>\n",
       "      <td>2017-12-01</td>\n",
       "      <td>금</td>\n",
       "      <td>강남구</td>\n",
       "      <td>남</td>\n",
       "      <td>10대</td>\n",
       "      <td>8.142857</td>\n",
       "      <td>-1.1</td>\n",
       "      <td>-5.0</td>\n",
       "      <td>3.1</td>\n",
       "      <td>0.0</td>\n",
       "      <td>1.5</td>\n",
       "      <td>20.0</td>\n",
       "      <td>8.1</td>\n",
       "      <td>48.678871</td>\n",
       "      <td>0</td>\n",
       "    </tr>\n",
       "    <tr>\n",
       "      <th>1</th>\n",
       "      <td>2017-12-01</td>\n",
       "      <td>금</td>\n",
       "      <td>강남구</td>\n",
       "      <td>남</td>\n",
       "      <td>20대</td>\n",
       "      <td>39.100000</td>\n",
       "      <td>-1.1</td>\n",
       "      <td>-5.0</td>\n",
       "      <td>3.1</td>\n",
       "      <td>0.0</td>\n",
       "      <td>1.5</td>\n",
       "      <td>20.0</td>\n",
       "      <td>8.1</td>\n",
       "      <td>48.678871</td>\n",
       "      <td>0</td>\n",
       "    </tr>\n",
       "    <tr>\n",
       "      <th>2</th>\n",
       "      <td>2017-12-01</td>\n",
       "      <td>금</td>\n",
       "      <td>강남구</td>\n",
       "      <td>남</td>\n",
       "      <td>30대</td>\n",
       "      <td>67.100000</td>\n",
       "      <td>-1.1</td>\n",
       "      <td>-5.0</td>\n",
       "      <td>3.1</td>\n",
       "      <td>0.0</td>\n",
       "      <td>1.5</td>\n",
       "      <td>20.0</td>\n",
       "      <td>8.1</td>\n",
       "      <td>48.678871</td>\n",
       "      <td>1</td>\n",
       "    </tr>\n",
       "    <tr>\n",
       "      <th>3</th>\n",
       "      <td>2017-12-01</td>\n",
       "      <td>금</td>\n",
       "      <td>강남구</td>\n",
       "      <td>남</td>\n",
       "      <td>40대</td>\n",
       "      <td>62.300000</td>\n",
       "      <td>-1.1</td>\n",
       "      <td>-5.0</td>\n",
       "      <td>3.1</td>\n",
       "      <td>0.0</td>\n",
       "      <td>1.5</td>\n",
       "      <td>20.0</td>\n",
       "      <td>8.1</td>\n",
       "      <td>48.678871</td>\n",
       "      <td>1</td>\n",
       "    </tr>\n",
       "    <tr>\n",
       "      <th>4</th>\n",
       "      <td>2017-12-01</td>\n",
       "      <td>금</td>\n",
       "      <td>강남구</td>\n",
       "      <td>남</td>\n",
       "      <td>50대</td>\n",
       "      <td>43.818182</td>\n",
       "      <td>-1.1</td>\n",
       "      <td>-5.0</td>\n",
       "      <td>3.1</td>\n",
       "      <td>0.0</td>\n",
       "      <td>1.5</td>\n",
       "      <td>20.0</td>\n",
       "      <td>8.1</td>\n",
       "      <td>48.678871</td>\n",
       "      <td>0</td>\n",
       "    </tr>\n",
       "  </tbody>\n",
       "</table>\n",
       "</div>"
      ],
      "text/plain": [
       "        Date Week   GU gender  age       call  temp  temp_L  temp_H  rain  \\\n",
       "0 2017-12-01    금  강남구      남  10대   8.142857  -1.1    -5.0     3.1   0.0   \n",
       "1 2017-12-01    금  강남구      남  20대  39.100000  -1.1    -5.0     3.1   0.0   \n",
       "2 2017-12-01    금  강남구      남  30대  67.100000  -1.1    -5.0     3.1   0.0   \n",
       "3 2017-12-01    금  강남구      남  40대  62.300000  -1.1    -5.0     3.1   0.0   \n",
       "4 2017-12-01    금  강남구      남  50대  43.818182  -1.1    -5.0     3.1   0.0   \n",
       "\n",
       "   wind  dust  temp_dif       mean  call_num  \n",
       "0   1.5  20.0       8.1  48.678871         0  \n",
       "1   1.5  20.0       8.1  48.678871         0  \n",
       "2   1.5  20.0       8.1  48.678871         1  \n",
       "3   1.5  20.0       8.1  48.678871         1  \n",
       "4   1.5  20.0       8.1  48.678871         0  "
      ]
     },
     "execution_count": 53,
     "metadata": {},
     "output_type": "execute_result"
    }
   ],
   "source": [
    "data.head()"
   ]
  },
  {
   "cell_type": "code",
   "execution_count": 54,
   "metadata": {},
   "outputs": [],
   "source": [
    "data.to_csv('FINAL_DATA.csv', encoding='cp949')"
   ]
  },
  {
   "cell_type": "code",
   "execution_count": 58,
   "metadata": {},
   "outputs": [
    {
     "data": {
      "text/plain": [
       "<matplotlib.axes._subplots.AxesSubplot at 0x1f823fdeba8>"
      ]
     },
     "execution_count": 58,
     "metadata": {},
     "output_type": "execute_result"
    },
    {
     "data": {
      "image/png": "[encoded data removed]",
      "text/plain": [
       "<Figure size 504x504 with 2 Axes>"
      ]
     },
     "metadata": {
      "needs_background": "light"
     },
     "output_type": "display_data"
    }
   ],
   "source": [
    "%matplotlib inline \n",
    "import matplotlib.pyplot as plt \n",
    "import seaborn as sns  \n",
    "plt.figure(figsize=(7,7))\n",
    "sns.heatmap(data = data.corr(), annot=True, fmt = '.2f', linewidths=.5, cmap='Reds')"
   ]
  }
 ],
 "metadata": {
  "kernelspec": {
   "display_name": "Python 3",
   "language": "python",
   "name": "python3"
  },
  "language_info": {
   "codemirror_mode": {
    "name": "ipython",
    "version": 3
   },
   "file_extension": ".py",
   "mimetype": "text/x-python",
   "name": "python",
   "nbconvert_exporter": "python",
   "pygments_lexer": "ipython3",
   "version": "3.6.8"
  }
 },
 "nbformat": 4,
 "nbformat_minor": 2
}
