{
 "cells": [
  {
   "cell_type": "code",
   "execution_count": 7,
   "metadata": {},
   "outputs": [],
   "source": [
    "import pandas as pd\n",
    "import numpy as np"
   ]
  },
  {
   "cell_type": "markdown",
   "metadata": {},
   "source": [
    "전화데이터"
   ]
  },
  {
   "cell_type": "code",
   "execution_count": 8,
   "metadata": {},
   "outputs": [],
   "source": [
    "call = pd.read_csv('../데이터분석 공모전/newcalldata.csv', encoding='euc-kr', parse_dates=['일자'])\n",
    "\n",
    "call.drop(['Unnamed: 0'], axis='columns', inplace=True)\n",
    "call.drop(['Unnamed: 0.1'], axis='columns', inplace=True)"
   ]
  },
  {
   "cell_type": "code",
   "execution_count": 9,
   "metadata": {},
   "outputs": [],
   "source": [
    "call.drop(['발신지_시도'], axis='columns', inplace=True)\n",
    "call.drop(['발신지_읍면동'], axis='columns', inplace=True)\n",
    "call.rename(columns={'발신지_구': '지점', '일자': '일시'}, inplace=True)\n",
    "call.drop(['성별'], axis='columns', inplace=True)\n",
    "call.drop(['연령'], axis='columns', inplace=True)"
   ]
  },
  {
   "cell_type": "code",
   "execution_count": null,
   "metadata": {},
   "outputs": [],
   "source": [
    "call"
   ]
  },
  {
   "cell_type": "markdown",
   "metadata": {},
   "source": [
    "미세먼지 데이터"
   ]
  },
  {
   "cell_type": "code",
   "execution_count": 10,
   "metadata": {},
   "outputs": [],
   "source": [
    "m1 = pd.read_excel('../데이터분석 공모전/일별평균대기오염도_2017.xlsx', parse_dates=['측정일시'])\n",
    "m2 = pd.read_excel('../데이터분석 공모전/일별평균대기오염도_2018.xlsx', parse_dates=['측정일시'])"
   ]
  },
  {
   "cell_type": "code",
   "execution_count": 12,
   "metadata": {},
   "outputs": [],
   "source": [
    "m = pd.concat([m1, m2])\n",
    "m.drop(['이산화질소농도(ppm)', '오존농도(ppm)', '이산화탄소농도(ppm)','아황산가스(ppm)'], axis='columns', inplace=True)\n",
    "m.rename(columns={'측정일시': '일시', '측정소명': '지점'}, inplace=True)\n",
    "\n",
    "#pd.isnull(m).sum()\n",
    "m=m.interpolate() \n",
    "#pd.isnull(m).sum()"
   ]
  },
  {
   "cell_type": "code",
   "execution_count": null,
   "metadata": {},
   "outputs": [],
   "source": [
    "m"
   ]
  },
  {
   "cell_type": "markdown",
   "metadata": {},
   "source": [
    "날씨 데이터"
   ]
  },
  {
   "cell_type": "code",
   "execution_count": 13,
   "metadata": {},
   "outputs": [],
   "source": [
    "weather = pd.read_csv('../데이터분석 공모전/weather.csv', encoding='euc-kr', parse_dates=['일시'])"
   ]
  },
  {
   "cell_type": "code",
   "execution_count": 14,
   "metadata": {},
   "outputs": [],
   "source": [
    "weather['일교차(°C)'] = weather[\"최고기온(°C)\"] - weather[\"최저기온(°C)\"]\n",
    "weather.drop(['최저기온(°C)','최고기온(°C)'], axis='columns', inplace=True)\n",
    "\n",
    "weather.loc[weather[\"지점\"] == 400, \"지점\"] = \"강남구\"\n",
    "weather.loc[weather[\"지점\"] == 401, \"지점\"] = \"서초구\"\n",
    "weather.loc[weather[\"지점\"] == 402, \"지점\"] = \"강동구\"\n",
    "weather.loc[weather[\"지점\"] == 403, \"지점\"] = \"송파구\"\n",
    "weather.loc[weather[\"지점\"] == 404, \"지점\"] = \"강서구\"\n",
    "weather.loc[weather[\"지점\"] == 405, \"지점\"] = \"양천구\"\n",
    "weather.loc[weather[\"지점\"] == 406, \"지점\"] = \"도봉구\"\n",
    "weather.loc[weather[\"지점\"] == 407, \"지점\"] = \"노원구\"\n",
    "weather.loc[weather[\"지점\"] == 408, \"지점\"] = \"동대문구\"\n",
    "weather.loc[weather[\"지점\"] == 409, \"지점\"] = \"중랑구\"\n",
    "weather.loc[weather[\"지점\"] == 410, \"지점\"] = \"동작구\"\n",
    "weather.loc[weather[\"지점\"] == 411, \"지점\"] = \"마포구\"\n",
    "weather.loc[weather[\"지점\"] == 412, \"지점\"] = \"서대문구\"\n",
    "weather.loc[weather[\"지점\"] == 413, \"지점\"] = \"광진구\"\n",
    "weather.loc[weather[\"지점\"] == 414, \"지점\"] = \"성북구\"\n",
    "weather.loc[weather[\"지점\"] == 415, \"지점\"] = \"용산구\"\n",
    "weather.loc[weather[\"지점\"] == 416, \"지점\"] = \"은평구\"\n",
    "weather.loc[weather[\"지점\"] == 417, \"지점\"] = \"금천구\"\n",
    "weather.loc[weather[\"지점\"] == 418, \"지점\"] = \"한강\"\n",
    "weather.loc[weather[\"지점\"] == 419, \"지점\"] = \"중구\"\n",
    "weather.loc[weather[\"지점\"] == 421, \"지점\"] = \"성동구\"\n",
    "weather.loc[weather[\"지점\"] == 422, \"지점\"] = \"종로구\"\n",
    "weather.loc[weather[\"지점\"] == 423, \"지점\"] = \"구로구\"\n",
    "weather.loc[weather[\"지점\"] == 424, \"지점\"] = \"강북구\"\n",
    "weather.loc[weather[\"지점\"] == 425, \"지점\"] = \"중구\"\n",
    "weather.loc[weather[\"지점\"] == 509, \"지점\"] = \"관악구\"\n",
    "weather.loc[weather[\"지점\"] == 510, \"지점\"] = \"영등포구\"\n",
    "weather.loc[weather[\"지점\"] == 889, \"지점\"] = \"동작구\""
   ]
  },
  {
   "cell_type": "code",
   "execution_count": null,
   "metadata": {},
   "outputs": [],
   "source": [
    "weather"
   ]
  },
  {
   "cell_type": "markdown",
   "metadata": {},
   "source": [
    "최종데이터"
   ]
  },
  {
   "cell_type": "code",
   "execution_count": 15,
   "metadata": {},
   "outputs": [],
   "source": [
    "data = pd.merge(call,weather, on=[\"지점\",\"일시\"], how=\"left\")"
   ]
  },
  {
   "cell_type": "code",
   "execution_count": 17,
   "metadata": {},
   "outputs": [],
   "source": [
    "final_data_ = pd.merge(data,m, on=[\"지점\",\"일시\"], how=\"left\")\n",
    "final_data = final_data_.groupby([final_data_[\"지점\"],final_data_[\"일시\"],final_data_[\"요일\"]]).mean()"
   ]
  },
  {
   "cell_type": "code",
   "execution_count": null,
   "metadata": {},
   "outputs": [],
   "source": [
    "final_data"
   ]
  }
 ],
 "metadata": {
  "kernelspec": {
   "display_name": "Python 3",
   "language": "python",
   "name": "python3"
  },
  "language_info": {
   "codemirror_mode": {
    "name": "ipython",
    "version": 3
   },
   "file_extension": ".py",
   "mimetype": "text/x-python",
   "name": "python",
   "nbconvert_exporter": "python",
   "pygments_lexer": "ipython3",
   "version": "3.6.8"
  }
 },
 "nbformat": 4,
 "nbformat_minor": 2
}
